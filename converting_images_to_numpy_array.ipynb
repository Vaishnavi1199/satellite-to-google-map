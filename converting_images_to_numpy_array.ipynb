{
  "nbformat": 4,
  "nbformat_minor": 0,
  "metadata": {
    "colab": {
      "name": "converting_images_to_numpy_array.ipynb",
      "provenance": [],
      "collapsed_sections": [],
      "authorship_tag": "ABX9TyMSTBeQL1K8VWNaZTEXBnf8"
    },
    "kernelspec": {
      "name": "python3",
      "display_name": "Python 3"
    }
  },
  "cells": [
    {
      "cell_type": "code",
      "metadata": {
        "id": "hJNjt6T362vs",
        "colab_type": "code",
        "outputId": "7d2efdd6-20bc-4a90-af3b-b561e197c709",
        "colab": {
          "base_uri": "https://localhost:8080/",
          "height": 121
        }
      },
      "source": [
        "from google.colab import drive\n",
        "drive.mount (\"/content/drive\")"
      ],
      "execution_count": 0,
      "outputs": [
        {
          "output_type": "stream",
          "text": [
            "Go to this URL in a browser: https://accounts.google.com/o/oauth2/auth?client_id=947318989803-6bn6qk8qdgf4n4g3pfee6491hc0brc4i.apps.googleusercontent.com&redirect_uri=urn%3aietf%3awg%3aoauth%3a2.0%3aoob&response_type=code&scope=email%20https%3a%2f%2fwww.googleapis.com%2fauth%2fdocs.test%20https%3a%2f%2fwww.googleapis.com%2fauth%2fdrive%20https%3a%2f%2fwww.googleapis.com%2fauth%2fdrive.photos.readonly%20https%3a%2f%2fwww.googleapis.com%2fauth%2fpeopleapi.readonly\n",
            "\n",
            "Enter your authorization code:\n",
            "··········\n",
            "Mounted at /content/drive\n"
          ],
          "name": "stdout"
        }
      ]
    },
    {
      "cell_type": "code",
      "metadata": {
        "id": "kcgqLdGE65eO",
        "colab_type": "code",
        "outputId": "f8ba8c9e-f679-4eb6-e6ee-6051874c87b6",
        "colab": {
          "base_uri": "https://localhost:8080/",
          "height": 34
        }
      },
      "source": [
        "cd/content/drive/My Drive"
      ],
      "execution_count": 0,
      "outputs": [
        {
          "output_type": "stream",
          "text": [
            "/content/drive/My Drive\n"
          ],
          "name": "stdout"
        }
      ]
    },
    {
      "cell_type": "code",
      "metadata": {
        "id": "bW7NI_0Z694J",
        "colab_type": "code",
        "colab": {}
      },
      "source": [
        "import numpy as np\n",
        "import matplotlib.pyplot as plt\n",
        "import cv2\n",
        "import os\n",
        "import os.path\n",
        "from pathlib import Path"
      ],
      "execution_count": 0,
      "outputs": []
    },
    {
      "cell_type": "code",
      "metadata": {
        "id": "KLsrEKMk7LwO",
        "colab_type": "code",
        "colab": {}
      },
      "source": [
        "from numpy import asarray"
      ],
      "execution_count": 0,
      "outputs": []
    },
    {
      "cell_type": "code",
      "metadata": {
        "id": "wHLUNB-I8nlj",
        "colab_type": "code",
        "colab": {}
      },
      "source": [
        "from numpy import savez_compressed"
      ],
      "execution_count": 0,
      "outputs": []
    },
    {
      "cell_type": "code",
      "metadata": {
        "id": "PNrIldfy8ql8",
        "colab_type": "code",
        "colab": {}
      },
      "source": [
        "a=[]\n",
        "for items in os.listdir('/content/drive/My Drive/maps/xtrain'):\n",
        "  b=os.path.basename(Path(items))\n",
        "  s=os.path.splitext(b)[0]\n",
        "  a.append(s)"
      ],
      "execution_count": 0,
      "outputs": []
    },
    {
      "cell_type": "code",
      "metadata": {
        "id": "Y7rD5Ebt9n5O",
        "colab_type": "code",
        "outputId": "501c0cdd-3f50-414b-d87f-c1b926e10e69",
        "colab": {
          "base_uri": "https://localhost:8080/",
          "height": 34
        }
      },
      "source": [
        "len(a)"
      ],
      "execution_count": 0,
      "outputs": [
        {
          "output_type": "execute_result",
          "data": {
            "text/plain": [
              "999"
            ]
          },
          "metadata": {
            "tags": []
          },
          "execution_count": 23
        }
      ]
    },
    {
      "cell_type": "code",
      "metadata": {
        "id": "LtTk3KDr9snR",
        "colab_type": "code",
        "colab": {}
      },
      "source": [
        "c=[]\n",
        "for items in os.listdir('/content/drive/My Drive/maps/ytrain'):\n",
        "  b=os.path.basename(Path(items))\n",
        "  s=os.path.splitext(b)[0]\n",
        "  c.append(s)"
      ],
      "execution_count": 0,
      "outputs": []
    },
    {
      "cell_type": "code",
      "metadata": {
        "id": "cEJdqVff905v",
        "colab_type": "code",
        "outputId": "f2d088a8-d3a2-4659-a1a7-2f6a6b8950ea",
        "colab": {
          "base_uri": "https://localhost:8080/",
          "height": 34
        }
      },
      "source": [
        "len(c)"
      ],
      "execution_count": 0,
      "outputs": [
        {
          "output_type": "execute_result",
          "data": {
            "text/plain": [
              "999"
            ]
          },
          "metadata": {
            "tags": []
          },
          "execution_count": 25
        }
      ]
    },
    {
      "cell_type": "code",
      "metadata": {
        "id": "9f-Ixhkz92KU",
        "colab_type": "code",
        "outputId": "116dfea5-3838-44fd-e193-536bf4af0caa",
        "colab": {
          "base_uri": "https://localhost:8080/",
          "height": 34
        }
      },
      "source": [
        "x=[1,2,3,4,6]\n",
        "y=[1,2,3,4,5]\n",
        "list(set(y)-set(x))"
      ],
      "execution_count": 0,
      "outputs": [
        {
          "output_type": "execute_result",
          "data": {
            "text/plain": [
              "[5]"
            ]
          },
          "metadata": {
            "tags": []
          },
          "execution_count": 19
        }
      ]
    },
    {
      "cell_type": "code",
      "metadata": {
        "id": "QOcyUN5k-yO8",
        "colab_type": "code",
        "outputId": "0a199c76-64ab-42af-f732-347e5307ee0a",
        "colab": {
          "base_uri": "https://localhost:8080/",
          "height": 34
        }
      },
      "source": [
        "list(set(a)-set(c))"
      ],
      "execution_count": 0,
      "outputs": [
        {
          "output_type": "execute_result",
          "data": {
            "text/plain": [
              "[]"
            ]
          },
          "metadata": {
            "tags": []
          },
          "execution_count": 26
        }
      ]
    },
    {
      "cell_type": "code",
      "metadata": {
        "id": "Czj51fZL-76I",
        "colab_type": "code",
        "outputId": "b2823721-4591-49bb-fc7a-bed9cd196957",
        "colab": {
          "base_uri": "https://localhost:8080/",
          "height": 34
        }
      },
      "source": [
        "list(set(c)-set(a))"
      ],
      "execution_count": 0,
      "outputs": [
        {
          "output_type": "execute_result",
          "data": {
            "text/plain": [
              "[]"
            ]
          },
          "metadata": {
            "tags": []
          },
          "execution_count": 21
        }
      ]
    },
    {
      "cell_type": "code",
      "metadata": {
        "id": "ICcUjINS_BdT",
        "colab_type": "code",
        "colab": {}
      },
      "source": [
        "def load_sample(p,q):\n",
        "  src_list=[]\n",
        "  tar_list=[]\n",
        "  for files in os.scandir(p):\n",
        "    b=os.path.basename(Path(files))\n",
        "    s=os.path.splitext(b)[0]\n",
        "    src_img=cv2.imread(f'{Path(files)}')\n",
        "    src_img=cv2.resize(src_img,(256,256))\n",
        "    src_img=(src_img/127.5)-1\n",
        "    src_list.append(src_img)\n",
        "    tar_img=cv2.imread(f'{q}/{s}.jpg')\n",
        "    tar_img=cv2.resize(tar_img,(256,256))\n",
        "    tar_img=(tar_img/127.5)-1\n",
        "    tar_list.append(tar_img)\n",
        "    \n",
        "  return [asarray(src_list),asarray(tar_list)]\n"
      ],
      "execution_count": 0,
      "outputs": []
    },
    {
      "cell_type": "code",
      "metadata": {
        "id": "VVIQihEu_5ik",
        "colab_type": "code",
        "colab": {}
      },
      "source": [
        "p='/content/drive/My Drive/maps/xtrain'\n",
        "q='/content/drive/My Drive/maps/ytrain'"
      ],
      "execution_count": 0,
      "outputs": []
    },
    {
      "cell_type": "code",
      "metadata": {
        "id": "xeM8APH8_8s8",
        "colab_type": "code",
        "colab": {}
      },
      "source": [
        "[src,tar]=load_sample(p,q)"
      ],
      "execution_count": 0,
      "outputs": []
    },
    {
      "cell_type": "code",
      "metadata": {
        "id": "kBSPffGc__aP",
        "colab_type": "code",
        "outputId": "ac5cecf2-1424-4b68-ed57-c41f38f45097",
        "colab": {
          "base_uri": "https://localhost:8080/",
          "height": 840
        }
      },
      "source": [
        "src[0]"
      ],
      "execution_count": 0,
      "outputs": [
        {
          "output_type": "execute_result",
          "data": {
            "text/plain": [
              "array([[[-0.22352941, -0.2       , -0.18431373],\n",
              "        [-0.27843137, -0.24705882, -0.23921569],\n",
              "        [-0.36470588, -0.3254902 , -0.3254902 ],\n",
              "        ...,\n",
              "        [-0.70980392, -0.7254902 , -0.79607843],\n",
              "        [-0.70980392, -0.70980392, -0.75686275],\n",
              "        [-0.7254902 , -0.70980392, -0.74117647]],\n",
              "\n",
              "       [[-0.43529412, -0.40392157, -0.39607843],\n",
              "        [-0.30196078, -0.27058824, -0.2627451 ],\n",
              "        [-0.38039216, -0.34901961, -0.34117647],\n",
              "        ...,\n",
              "        [-0.70196078, -0.71764706, -0.78823529],\n",
              "        [-0.70980392, -0.70980392, -0.75686275],\n",
              "        [-0.7254902 , -0.69411765, -0.73333333]],\n",
              "\n",
              "       [[-0.39607843, -0.36470588, -0.35686275],\n",
              "        [-0.40392157, -0.37254902, -0.36470588],\n",
              "        [-0.37254902, -0.34117647, -0.33333333],\n",
              "        ...,\n",
              "        [-0.70980392, -0.70980392, -0.78039216],\n",
              "        [-0.71764706, -0.70196078, -0.74901961],\n",
              "        [-0.7254902 , -0.69411765, -0.73333333]],\n",
              "\n",
              "       ...,\n",
              "\n",
              "       [[-0.52156863, -0.50588235, -0.50588235],\n",
              "        [-0.50588235, -0.48235294, -0.48235294],\n",
              "        [-0.51372549, -0.49803922, -0.49803922],\n",
              "        ...,\n",
              "        [-0.69411765, -0.60784314, -0.58431373],\n",
              "        [-0.67843137, -0.57647059, -0.56862745],\n",
              "        [-0.71764706, -0.58431373, -0.59215686]],\n",
              "\n",
              "       [[-0.49803922, -0.48235294, -0.48235294],\n",
              "        [-0.51372549, -0.49803922, -0.49803922],\n",
              "        [-0.45882353, -0.44313725, -0.44313725],\n",
              "        ...,\n",
              "        [-0.67843137, -0.59215686, -0.56862745],\n",
              "        [-0.71764706, -0.61568627, -0.6       ],\n",
              "        [-0.70980392, -0.58431373, -0.59215686]],\n",
              "\n",
              "       [[-0.52156863, -0.50588235, -0.50588235],\n",
              "        [-0.54509804, -0.52941176, -0.52941176],\n",
              "        [-0.46666667, -0.45098039, -0.45098039],\n",
              "        ...,\n",
              "        [-0.62352941, -0.54509804, -0.52156863],\n",
              "        [-0.67843137, -0.57647059, -0.56078431],\n",
              "        [-0.69411765, -0.56862745, -0.58431373]]])"
            ]
          },
          "metadata": {
            "tags": []
          },
          "execution_count": 30
        }
      ]
    },
    {
      "cell_type": "code",
      "metadata": {
        "id": "P3vEg5bNAHU2",
        "colab_type": "code",
        "outputId": "33e9f7fe-7185-4182-9755-5194bc87ceda",
        "colab": {
          "base_uri": "https://localhost:8080/",
          "height": 840
        }
      },
      "source": [
        "tar[0]"
      ],
      "execution_count": 0,
      "outputs": [
        {
          "output_type": "execute_result",
          "data": {
            "text/plain": [
              "array([[[0.83529412, 0.8745098 , 0.85882353],\n",
              "        [0.69411765, 0.74117647, 0.73333333],\n",
              "        [0.71764706, 0.77254902, 0.78823529],\n",
              "        ...,\n",
              "        [0.99215686, 0.63137255, 0.38823529],\n",
              "        [0.99215686, 0.63137255, 0.38823529],\n",
              "        [0.99215686, 0.63137255, 0.38823529]],\n",
              "\n",
              "       [[0.92156863, 0.96078431, 0.94509804],\n",
              "        [0.94509804, 0.99215686, 0.98431373],\n",
              "        [0.76470588, 0.81960784, 0.83529412],\n",
              "        ...,\n",
              "        [0.99215686, 0.63137255, 0.38823529],\n",
              "        [0.99215686, 0.63137255, 0.38823529],\n",
              "        [0.99215686, 0.63137255, 0.38823529]],\n",
              "\n",
              "       [[0.94509804, 0.98431373, 0.96862745],\n",
              "        [0.94509804, 0.99215686, 0.98431373],\n",
              "        [0.9372549 , 0.98431373, 0.99215686],\n",
              "        ...,\n",
              "        [0.99215686, 0.63137255, 0.38823529],\n",
              "        [0.99215686, 0.63137255, 0.38823529],\n",
              "        [0.99215686, 0.63137255, 0.38823529]],\n",
              "\n",
              "       ...,\n",
              "\n",
              "       [[0.51372549, 0.67843137, 0.6627451 ],\n",
              "        [0.62352941, 0.75686275, 0.73333333],\n",
              "        [0.91372549, 0.99215686, 0.98431373],\n",
              "        ...,\n",
              "        [0.73333333, 0.78823529, 0.81176471],\n",
              "        [0.74117647, 0.79607843, 0.81960784],\n",
              "        [0.74901961, 0.80392157, 0.82745098]],\n",
              "\n",
              "       [[0.56078431, 0.68627451, 0.67843137],\n",
              "        [0.82745098, 0.96078431, 0.9372549 ],\n",
              "        [0.90588235, 0.98431373, 0.96862745],\n",
              "        ...,\n",
              "        [0.74117647, 0.79607843, 0.81960784],\n",
              "        [0.74117647, 0.79607843, 0.81960784],\n",
              "        [0.74117647, 0.79607843, 0.81960784]],\n",
              "\n",
              "       [[0.69411765, 0.80392157, 0.79607843],\n",
              "        [0.90588235, 1.        , 1.        ],\n",
              "        [0.92941176, 0.98431373, 0.97647059],\n",
              "        ...,\n",
              "        [0.74901961, 0.80392157, 0.82745098],\n",
              "        [0.74117647, 0.79607843, 0.81960784],\n",
              "        [0.73333333, 0.78823529, 0.81176471]]])"
            ]
          },
          "metadata": {
            "tags": []
          },
          "execution_count": 31
        }
      ]
    },
    {
      "cell_type": "code",
      "metadata": {
        "id": "cpV5vh7bAKfV",
        "colab_type": "code",
        "outputId": "b0c8854a-92f4-433f-e40b-658b1cf7aed1",
        "colab": {
          "base_uri": "https://localhost:8080/",
          "height": 34
        }
      },
      "source": [
        "# save as compressed numpy array\n",
        "filename = 'maps_256.npz'\n",
        "savez_compressed(filename, src, tar)\n",
        "print('Saved dataset: ', filename)"
      ],
      "execution_count": 0,
      "outputs": [
        {
          "output_type": "stream",
          "text": [
            "Saved dataset:  maps_256.npz\n"
          ],
          "name": "stdout"
        }
      ]
    },
    {
      "cell_type": "code",
      "metadata": {
        "id": "dNSUZ560ATLL",
        "colab_type": "code",
        "outputId": "9da09efe-1761-48a8-e007-44453ac628b7",
        "colab": {
          "base_uri": "https://localhost:8080/",
          "height": 34
        }
      },
      "source": [
        "src.shape"
      ],
      "execution_count": 0,
      "outputs": [
        {
          "output_type": "execute_result",
          "data": {
            "text/plain": [
              "(999, 256, 256, 3)"
            ]
          },
          "metadata": {
            "tags": []
          },
          "execution_count": 33
        }
      ]
    },
    {
      "cell_type": "code",
      "metadata": {
        "id": "bwdllrllBIBm",
        "colab_type": "code",
        "outputId": "e6f4eeef-1c4c-41c3-dba4-a886e52c66b8",
        "colab": {
          "base_uri": "https://localhost:8080/",
          "height": 34
        }
      },
      "source": [
        "tar.shape"
      ],
      "execution_count": 0,
      "outputs": [
        {
          "output_type": "execute_result",
          "data": {
            "text/plain": [
              "(999, 256, 256, 3)"
            ]
          },
          "metadata": {
            "tags": []
          },
          "execution_count": 34
        }
      ]
    },
    {
      "cell_type": "code",
      "metadata": {
        "id": "0j1HxK7IBKCd",
        "colab_type": "code",
        "colab": {}
      },
      "source": [
        ""
      ],
      "execution_count": 0,
      "outputs": []
    }
  ]
}