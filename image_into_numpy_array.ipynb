{
  "nbformat": 4,
  "nbformat_minor": 0,
  "metadata": {
    "colab": {
      "name": "image into numpy array.ipynb",
      "provenance": [],
      "authorship_tag": "ABX9TyN4XYPBok1erM63F3IsH4sz"
    },
    "kernelspec": {
      "name": "python3",
      "display_name": "Python 3"
    }
  },
  "cells": [
    {
      "cell_type": "code",
      "metadata": {
        "id": "jwF7zp-yUZZt",
        "colab_type": "code",
        "colab": {
          "base_uri": "https://localhost:8080/",
          "height": 121
        },
        "outputId": "957ad1a9-44b5-4a59-ecad-3689397502e1"
      },
      "source": [
        "from google.colab import drive\n",
        "drive.mount (\"/content/drive\")"
      ],
      "execution_count": 1,
      "outputs": [
        {
          "output_type": "stream",
          "text": [
            "Go to this URL in a browser: https://accounts.google.com/o/oauth2/auth?client_id=947318989803-6bn6qk8qdgf4n4g3pfee6491hc0brc4i.apps.googleusercontent.com&redirect_uri=urn%3aietf%3awg%3aoauth%3a2.0%3aoob&response_type=code&scope=email%20https%3a%2f%2fwww.googleapis.com%2fauth%2fdocs.test%20https%3a%2f%2fwww.googleapis.com%2fauth%2fdrive%20https%3a%2f%2fwww.googleapis.com%2fauth%2fdrive.photos.readonly%20https%3a%2f%2fwww.googleapis.com%2fauth%2fpeopleapi.readonly\n",
            "\n",
            "Enter your authorization code:\n",
            "··········\n",
            "Mounted at /content/drive\n"
          ],
          "name": "stdout"
        }
      ]
    },
    {
      "cell_type": "code",
      "metadata": {
        "id": "aoBUIStqUiIv",
        "colab_type": "code",
        "colab": {
          "base_uri": "https://localhost:8080/",
          "height": 34
        },
        "outputId": "0b6570ae-0908-498f-e5b1-fb195a35f151"
      },
      "source": [
        "cd/content/drive/My Drive"
      ],
      "execution_count": 2,
      "outputs": [
        {
          "output_type": "stream",
          "text": [
            "/content/drive/My Drive\n"
          ],
          "name": "stdout"
        }
      ]
    },
    {
      "cell_type": "code",
      "metadata": {
        "id": "UeZEc1xzUwAn",
        "colab_type": "code",
        "colab": {}
      },
      "source": [
        "from keras.preprocessing.image import img_to_array\n",
        "from keras.preprocessing.image import load_img\n",
        "from numpy import asarray\n",
        "from numpy import savez_compressed\n",
        "import os.path\n",
        "import numpy as np\n",
        "import matplotlib.pyplot as plt\n",
        "from pathlib import Path\n",
        "import PIL"
      ],
      "execution_count": 0,
      "outputs": []
    },
    {
      "cell_type": "code",
      "metadata": {
        "id": "KRq9BhmgVR0z",
        "colab_type": "code",
        "colab": {}
      },
      "source": [
        "def load_images(path, image_size=(256,512)):\n",
        "  src_list=[]\n",
        "  tar_list=[]\n",
        "  for items in os.scandir(path):\n",
        "    image=load_img(f'{Path(items)}', target_size=image_size) #load img\n",
        "    np_image= img_to_array(image) #convert into numpy\n",
        "    sat=(np_image[:,:256]/127.5)-1 #resize and normalize\n",
        "    img=(np_image[:,256:]/127.5)-1\n",
        "    src_list.append(sat) \n",
        "    tar_list.append(img)\n",
        "  return [asarray(src_list), asarray(tar_list)]\n"
      ],
      "execution_count": 0,
      "outputs": []
    },
    {
      "cell_type": "code",
      "metadata": {
        "id": "VOey7-6qXN8O",
        "colab_type": "code",
        "colab": {}
      },
      "source": [
        "path=(\"/content/drive/My Drive/maps /train\")"
      ],
      "execution_count": 0,
      "outputs": []
    },
    {
      "cell_type": "code",
      "metadata": {
        "id": "e-7Bx5DOXXYt",
        "colab_type": "code",
        "colab": {}
      },
      "source": [
        "a=[]\n",
        "for items in os.listdir(path):\n",
        "  a.append(items)"
      ],
      "execution_count": 0,
      "outputs": []
    },
    {
      "cell_type": "code",
      "metadata": {
        "id": "A9DWtmSSXgMG",
        "colab_type": "code",
        "colab": {
          "base_uri": "https://localhost:8080/",
          "height": 34
        },
        "outputId": "1e3e4008-022f-47b3-9aa9-29e1e0bb6567"
      },
      "source": [
        "len(a)"
      ],
      "execution_count": 36,
      "outputs": [
        {
          "output_type": "execute_result",
          "data": {
            "text/plain": [
              "1096"
            ]
          },
          "metadata": {
            "tags": []
          },
          "execution_count": 36
        }
      ]
    },
    {
      "cell_type": "code",
      "metadata": {
        "id": "nyUxPlXIZb9N",
        "colab_type": "code",
        "colab": {}
      },
      "source": [
        "[src,tar]=load_images(path)"
      ],
      "execution_count": 0,
      "outputs": []
    },
    {
      "cell_type": "code",
      "metadata": {
        "id": "TIO5iTGgd1g6",
        "colab_type": "code",
        "colab": {
          "base_uri": "https://localhost:8080/",
          "height": 34
        },
        "outputId": "ac078720-a7d5-4bb1-ac30-23ff60739d0c"
      },
      "source": [
        "src.shape"
      ],
      "execution_count": 38,
      "outputs": [
        {
          "output_type": "execute_result",
          "data": {
            "text/plain": [
              "(1096, 256, 256, 3)"
            ]
          },
          "metadata": {
            "tags": []
          },
          "execution_count": 38
        }
      ]
    },
    {
      "cell_type": "code",
      "metadata": {
        "id": "nmOjWtBud7Rc",
        "colab_type": "code",
        "colab": {
          "base_uri": "https://localhost:8080/",
          "height": 34
        },
        "outputId": "6e260211-6e5d-4c37-c832-74a26305f7a7"
      },
      "source": [
        "tar.shape"
      ],
      "execution_count": 39,
      "outputs": [
        {
          "output_type": "execute_result",
          "data": {
            "text/plain": [
              "(1096, 256, 256, 3)"
            ]
          },
          "metadata": {
            "tags": []
          },
          "execution_count": 39
        }
      ]
    },
    {
      "cell_type": "code",
      "metadata": {
        "id": "ezgz2y9nZ9_j",
        "colab_type": "code",
        "colab": {}
      },
      "source": [
        "filename = 'maps_256.npz'\n",
        "savez_compressed(filename, src, tar)\n"
      ],
      "execution_count": 0,
      "outputs": []
    },
    {
      "cell_type": "code",
      "metadata": {
        "id": "CU2j0-KveDXO",
        "colab_type": "code",
        "colab": {}
      },
      "source": [
        ""
      ],
      "execution_count": 0,
      "outputs": []
    }
  ]
}